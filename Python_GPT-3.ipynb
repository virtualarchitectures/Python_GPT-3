{
 "cells": [
  {
   "cell_type": "markdown",
   "id": "e05d2a37",
   "metadata": {},
   "source": [
    "# Python GPT-3\n",
    "\n",
    "A Jupyter notebook for accessing [OpenAI's](https://openai.com/) GPT-3 model for natural language processing. In order to use GPT-3 you will need obtain an API key by applying to join the [GPT-3 Beta](https://beta.openai.com/).\n",
    "\n",
    "#### Installation\n",
    "1. Install the Python bindings for GPT-3: `pip install openai`\n",
    "2. Install the dotenv module: `pip install python-dotenv`\n",
    "3. Add your OpenAI API key a variable `OPENAI_API_KEY='<ENTER API KEY>'` in a configuration file named `.env`."
   ]
  },
  {
   "cell_type": "markdown",
   "id": "047b1ec0",
   "metadata": {},
   "source": [
    "#### Import python modules"
   ]
  },
  {
   "cell_type": "code",
   "execution_count": null,
   "id": "8b99ead0",
   "metadata": {},
   "outputs": [],
   "source": [
    "# OpenAI Python bindings\n",
    "import openai\n",
    "# OS to manipulate file paths and names\n",
    "import os\n",
    "\n",
    "# Read environment variables\n",
    "from dotenv import load_dotenv"
   ]
  },
  {
   "cell_type": "markdown",
   "id": "ffa95fe2",
   "metadata": {},
   "source": [
    "#### Load environment variables from configuration file"
   ]
  },
  {
   "cell_type": "code",
   "execution_count": null,
   "id": "db614211",
   "metadata": {},
   "outputs": [],
   "source": [
    "load_dotenv('.env')"
   ]
  },
  {
   "cell_type": "markdown",
   "id": "5e4c7475",
   "metadata": {},
   "source": [
    "#### Load API key from an environment variable"
   ]
  },
  {
   "cell_type": "code",
   "execution_count": null,
   "id": "09dfb437",
   "metadata": {},
   "outputs": [],
   "source": [
    "openai.api_key = os.getenv(\"OPENAI_API_KEY\")"
   ]
  },
  {
   "cell_type": "markdown",
   "id": "4f0ecd68",
   "metadata": {},
   "source": [
    "#### Make Test API call"
   ]
  },
  {
   "cell_type": "code",
   "execution_count": null,
   "id": "636db89e",
   "metadata": {},
   "outputs": [],
   "source": [
    "response = openai.Completion.create(engine=\"davinci\", prompt=\"This is a test\", max_tokens=5)"
   ]
  },
  {
   "cell_type": "markdown",
   "id": "89a2f01a",
   "metadata": {},
   "source": [
    "#### Print API Response"
   ]
  },
  {
   "cell_type": "code",
   "execution_count": null,
   "id": "018334aa",
   "metadata": {},
   "outputs": [],
   "source": [
    "print(response)"
   ]
  },
  {
   "cell_type": "code",
   "execution_count": null,
   "id": "8a7d035d",
   "metadata": {},
   "outputs": [],
   "source": []
  }
 ],
 "metadata": {
  "kernelspec": {
   "display_name": "Python 3",
   "language": "python",
   "name": "python3"
  },
  "language_info": {
   "codemirror_mode": {
    "name": "ipython",
    "version": 3
   },
   "file_extension": ".py",
   "mimetype": "text/x-python",
   "name": "python",
   "nbconvert_exporter": "python",
   "pygments_lexer": "ipython3",
   "version": "3.8.10"
  }
 },
 "nbformat": 4,
 "nbformat_minor": 5
}
