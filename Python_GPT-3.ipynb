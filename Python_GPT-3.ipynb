{
 "cells": [
  {
   "cell_type": "markdown",
   "id": "e05d2a37",
   "metadata": {},
   "source": [
    "# Python GPT-3\n",
    "\n",
    "A Jupyter notebook for accessing [OpenAI's](https://openai.com/) GPT-3 model for natural language processing. In order to use GPT-3 you will need obtain an API key by applying to join the [GPT-3 Beta](https://beta.openai.com/).\n",
    "\n",
    "#### Installation\n",
    "1. Install the Python bindings for GPT-3: `pip install openai`\n",
    "2. Install the dotenv module: `pip install python-dotenv`\n",
    "3. Add your OpenAI API key a variable `OPENAI_API_KEY='<ENTER API KEY>'` in a configuration file named `.env`."
   ]
  },
  {
   "cell_type": "markdown",
   "id": "047b1ec0",
   "metadata": {},
   "source": [
    "#### Import python modules"
   ]
  },
  {
   "cell_type": "code",
   "execution_count": null,
   "id": "8b99ead0",
   "metadata": {},
   "outputs": [],
   "source": [
    "# OpenAI Python bindings\n",
    "import openai\n",
    "# OS to manipulate file paths and names\n",
    "import os\n",
    "\n",
    "# Read environment variables\n",
    "from dotenv import load_dotenv"
   ]
  },
  {
   "cell_type": "markdown",
   "id": "ffa95fe2",
   "metadata": {},
   "source": [
    "#### Load environment variables from configuration file"
   ]
  },
  {
   "cell_type": "code",
   "execution_count": null,
   "id": "db614211",
   "metadata": {},
   "outputs": [],
   "source": [
    "load_dotenv('.env')"
   ]
  },
  {
   "cell_type": "markdown",
   "id": "5e4c7475",
   "metadata": {},
   "source": [
    "#### Load API key from an environment variable"
   ]
  },
  {
   "cell_type": "code",
   "execution_count": null,
   "id": "09dfb437",
   "metadata": {},
   "outputs": [],
   "source": [
    "openai.api_key = os.getenv(\"OPENAI_API_KEY\")"
   ]
  },
  {
   "cell_type": "markdown",
   "id": "11148a98",
   "metadata": {},
   "source": [
    "## Completion\n",
    "\n",
    "This creates a new completion for the provided prompt and parameters."
   ]
  },
  {
   "cell_type": "markdown",
   "id": "95ff886e",
   "metadata": {},
   "source": [
    "#### Specify prompt text"
   ]
  },
  {
   "cell_type": "code",
   "execution_count": null,
   "id": "1adb0f2e",
   "metadata": {},
   "outputs": [],
   "source": [
    "prompt_text = \"Once upon a time\""
   ]
  },
  {
   "cell_type": "markdown",
   "id": "4f0ecd68",
   "metadata": {},
   "source": [
    "#### Make API request"
   ]
  },
  {
   "cell_type": "code",
   "execution_count": null,
   "id": "636db89e",
   "metadata": {},
   "outputs": [],
   "source": [
    "response = openai.Completion.create(\n",
    "    engine = \"davinci\",\n",
    "    prompt = prompt_text,\n",
    "    max_tokens = 80,\n",
    "    temperature = 0.7,\n",
    "    top_p = 1,\n",
    "    echo = True\n",
    ")"
   ]
  },
  {
   "cell_type": "markdown",
   "id": "89a2f01a",
   "metadata": {},
   "source": [
    "#### Print API Response"
   ]
  },
  {
   "cell_type": "code",
   "execution_count": null,
   "id": "1f360ba4",
   "metadata": {},
   "outputs": [],
   "source": [
    "print(response)"
   ]
  },
  {
   "cell_type": "markdown",
   "id": "910d77fb",
   "metadata": {},
   "source": [
    "#### Print completion"
   ]
  },
  {
   "cell_type": "code",
   "execution_count": null,
   "id": "018334aa",
   "metadata": {},
   "outputs": [],
   "source": [
    "print(response.choices[0].text)"
   ]
  },
  {
   "cell_type": "markdown",
   "id": "8bb7bd62",
   "metadata": {},
   "source": [
    "## Classification\n",
    "\n",
    "Given a query and a set of labeled examples, the model will predict the most likely label for the query. The endpoint first searches over the labeled examples using one model to determine the most relevant examples. It then combines those examples with the query to construct a prompt to be processed by a second model using the completions endpoint."
   ]
  },
  {
   "cell_type": "markdown",
   "id": "3ef7a981",
   "metadata": {},
   "source": [
    "#### Make API request"
   ]
  },
  {
   "cell_type": "code",
   "execution_count": null,
   "id": "1a86fd04",
   "metadata": {},
   "outputs": [],
   "source": [
    "response = openai.Classification.create(\n",
    "    search_model=\"ada\",\n",
    "    model=\"curie\",\n",
    "    examples=[\n",
    "        [\"A happy moment\", \"Positive\"],\n",
    "        [\"I am sad.\", \"Negative\"],\n",
    "        [\"I am feeling awesome\", \"Positive\"]\n",
    "    ],\n",
    "    query=\"It is a raining day :(\",\n",
    "    labels=[\"Positive\", \"Negative\", \"Neutral\"],\n",
    ")"
   ]
  },
  {
   "cell_type": "markdown",
   "id": "238d2a6e",
   "metadata": {},
   "source": [
    "#### Print API response"
   ]
  },
  {
   "cell_type": "code",
   "execution_count": null,
   "id": "41eaf7a8",
   "metadata": {},
   "outputs": [],
   "source": [
    "print(response)"
   ]
  },
  {
   "cell_type": "code",
   "execution_count": null,
   "id": "3075ccaa",
   "metadata": {},
   "outputs": [],
   "source": [
    "print(response.label)"
   ]
  },
  {
   "cell_type": "code",
   "execution_count": null,
   "id": "adfabf6a",
   "metadata": {},
   "outputs": [],
   "source": []
  }
 ],
 "metadata": {
  "kernelspec": {
   "display_name": "Python 3",
   "language": "python",
   "name": "python3"
  },
  "language_info": {
   "codemirror_mode": {
    "name": "ipython",
    "version": 3
   },
   "file_extension": ".py",
   "mimetype": "text/x-python",
   "name": "python",
   "nbconvert_exporter": "python",
   "pygments_lexer": "ipython3",
   "version": "3.8.10"
  }
 },
 "nbformat": 4,
 "nbformat_minor": 5
}
